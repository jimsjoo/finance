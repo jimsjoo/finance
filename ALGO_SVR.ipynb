{
  "nbformat": 4,
  "nbformat_minor": 0,
  "metadata": {
    "colab": {
      "name": "ALGO_SVR.ipynb",
      "provenance": [],
      "collapsed_sections": [],
      "authorship_tag": "ABX9TyP/7nez1rntx37Q/eNyuXrn",
      "include_colab_link": true
    },
    "kernelspec": {
      "name": "python3",
      "display_name": "Python 3"
    }
  },
  "cells": [
    {
      "cell_type": "markdown",
      "metadata": {
        "id": "view-in-github",
        "colab_type": "text"
      },
      "source": [
        "<a href=\"https://colab.research.google.com/github/jimsjoo/finance/blob/master/ALGO_SVR.ipynb\" target=\"_parent\"><img src=\"https://colab.research.google.com/assets/colab-badge.svg\" alt=\"Open In Colab\"/></a>"
      ]
    },
    {
      "cell_type": "code",
      "metadata": {
        "id": "uY2eUQbcOEVy"
      },
      "source": [
        "from sklearn.model_selection import train_test_split\n",
        "from sklearn.svm import SVR\n",
        "from sklearn.linear_model import LinearRegression\n",
        "import  numpy as np\n",
        "import pandas as pd\n",
        "from pandas_datareader import data as web\n",
        "import warnings"
      ],
      "execution_count": 25,
      "outputs": []
    },
    {
      "cell_type": "code",
      "metadata": {
        "id": "ztKo6QzXOcA9"
      },
      "source": [
        "warnings.filterwarnings('ignore')\n",
        "ticker = 'FB'\n",
        "df = web.DataReader(ticker, data_source='yahoo', start='2012-05-18', end='2018-03-27')"
      ],
      "execution_count": 26,
      "outputs": []
    },
    {
      "cell_type": "code",
      "metadata": {
        "id": "oHUHrBueOrju"
      },
      "source": [
        "df = df[['Adj Close']]\n",
        "# for predicting 'n' days out into the future\n",
        "forecast_out = 30\n",
        "df['Prediction'] = df[['Adj Close']].shift(-forecast_out)"
      ],
      "execution_count": 27,
      "outputs": []
    },
    {
      "cell_type": "code",
      "metadata": {
        "id": "4FNyZ4iqQFl4"
      },
      "source": [
        "X = np.array(df.drop(['Prediction'],1))\n",
        "X = X[:-forecast_out]"
      ],
      "execution_count": 28,
      "outputs": []
    },
    {
      "cell_type": "code",
      "metadata": {
        "id": "cvZhCTLZRYwl",
        "outputId": "c44fb1d9-7504-4904-9844-a2963b2be2db",
        "colab": {
          "base_uri": "https://localhost:8080/",
          "height": 52
        }
      },
      "source": [
        "y = np.array(df['Prediction'])\n",
        "y = y[:-forecast_out]\n",
        "y"
      ],
      "execution_count": 29,
      "outputs": [
        {
          "output_type": "execute_result",
          "data": {
            "text/plain": [
              "array([ 30.77000046,  31.20000076,  31.46999931, ..., 159.38999939,\n",
              "       160.05999756, 152.22000122])"
            ]
          },
          "metadata": {
            "tags": []
          },
          "execution_count": 29
        }
      ]
    },
    {
      "cell_type": "code",
      "metadata": {
        "id": "nGx-7sWxSFEn"
      },
      "source": [
        "X_train, X_test, Y_train, Y_test =train_test_split(X, y, test_size=0.2)"
      ],
      "execution_count": 30,
      "outputs": []
    },
    {
      "cell_type": "code",
      "metadata": {
        "id": "6NcNsq9NSqSH",
        "outputId": "34baf415-68c9-41df-c2ec-d83debe26e69",
        "colab": {
          "base_uri": "https://localhost:8080/",
          "height": 52
        }
      },
      "source": [
        "svr_rbf = SVR(kernel='rbf', C=1e3, gamma=0.1)\n",
        "svr_rbf.fit(X_train, Y_train)"
      ],
      "execution_count": 31,
      "outputs": [
        {
          "output_type": "execute_result",
          "data": {
            "text/plain": [
              "SVR(C=1000.0, cache_size=200, coef0=0.0, degree=3, epsilon=0.1, gamma=0.1,\n",
              "    kernel='rbf', max_iter=-1, shrinking=True, tol=0.001, verbose=False)"
            ]
          },
          "metadata": {
            "tags": []
          },
          "execution_count": 31
        }
      ]
    },
    {
      "cell_type": "code",
      "metadata": {
        "id": "fzi7Kog7TNqk",
        "outputId": "d4e31b05-c65c-41de-995c-05ef9db5954e",
        "colab": {
          "base_uri": "https://localhost:8080/",
          "height": 35
        }
      },
      "source": [
        "svm_confidence = svr_rbf.score(X_test, Y_test)\n",
        "svm_confidence"
      ],
      "execution_count": 32,
      "outputs": [
        {
          "output_type": "execute_result",
          "data": {
            "text/plain": [
              "0.9855935005328456"
            ]
          },
          "metadata": {
            "tags": []
          },
          "execution_count": 32
        }
      ]
    },
    {
      "cell_type": "code",
      "metadata": {
        "id": "Eh8wdC4jTxwM",
        "outputId": "4645ebfc-8109-4eb8-cbb7-94bd12277bac",
        "colab": {
          "base_uri": "https://localhost:8080/",
          "height": 35
        }
      },
      "source": [
        "lr = LinearRegression()\n",
        "lr.fit(X_train, Y_train)"
      ],
      "execution_count": 33,
      "outputs": [
        {
          "output_type": "execute_result",
          "data": {
            "text/plain": [
              "LinearRegression(copy_X=True, fit_intercept=True, n_jobs=None, normalize=False)"
            ]
          },
          "metadata": {
            "tags": []
          },
          "execution_count": 33
        }
      ]
    },
    {
      "cell_type": "code",
      "metadata": {
        "id": "HEnFZZZxUEpL",
        "outputId": "0b7e4403-f4cf-42ff-b176-192dd9db2063",
        "colab": {
          "base_uri": "https://localhost:8080/",
          "height": 35
        }
      },
      "source": [
        "lr_confidence = lr.score(X_test, Y_test)\n",
        "lr_confidence"
      ],
      "execution_count": 34,
      "outputs": [
        {
          "output_type": "execute_result",
          "data": {
            "text/plain": [
              "0.9840294223600949"
            ]
          },
          "metadata": {
            "tags": []
          },
          "execution_count": 34
        }
      ]
    },
    {
      "cell_type": "code",
      "metadata": {
        "id": "-1Jdt1DNUQ1L",
        "outputId": "ea4d9b6e-2a38-4bf1-ad5c-8d886c4e5a1b",
        "colab": {
          "base_uri": "https://localhost:8080/",
          "height": 535
        }
      },
      "source": [
        "x_forecast = np.array(df.drop(['Prediction'],1))[-forecast_out:]\n",
        "x_forecast"
      ],
      "execution_count": 35,
      "outputs": [
        {
          "output_type": "execute_result",
          "data": {
            "text/plain": [
              "array([[173.1499939 ],\n",
              "       [179.52000427],\n",
              "       [179.96000671],\n",
              "       [177.36000061],\n",
              "       [176.00999451],\n",
              "       [177.91000366],\n",
              "       [178.99000549],\n",
              "       [183.28999329],\n",
              "       [184.92999268],\n",
              "       [181.46000671],\n",
              "       [178.32000732],\n",
              "       [175.94000244],\n",
              "       [176.61999512],\n",
              "       [180.3999939 ],\n",
              "       [179.77999878],\n",
              "       [183.71000671],\n",
              "       [182.33999634],\n",
              "       [185.22999573],\n",
              "       [184.75999451],\n",
              "       [181.88000488],\n",
              "       [184.19000244],\n",
              "       [183.86000061],\n",
              "       [185.08999634],\n",
              "       [172.55999756],\n",
              "       [168.1499939 ],\n",
              "       [169.38999939],\n",
              "       [164.88999939],\n",
              "       [159.38999939],\n",
              "       [160.05999756],\n",
              "       [152.22000122]])"
            ]
          },
          "metadata": {
            "tags": []
          },
          "execution_count": 35
        }
      ]
    },
    {
      "cell_type": "code",
      "metadata": {
        "id": "oHcVgcBKUy0a",
        "outputId": "156905f7-de08-452a-d9f7-c415388c66f0",
        "colab": {
          "base_uri": "https://localhost:8080/",
          "height": 155
        }
      },
      "source": [
        "lr_prediction = lr.predict(x_forecast)\n",
        "lr_prediction"
      ],
      "execution_count": 36,
      "outputs": [
        {
          "output_type": "execute_result",
          "data": {
            "text/plain": [
              "array([177.04805542, 183.48079551, 183.92513095, 181.29952086,\n",
              "       179.93622035, 181.85494016, 182.94557749, 187.28791011,\n",
              "       188.94405966, 185.43990245, 182.2689814 , 179.86553903,\n",
              "       180.55222805, 184.36945098, 183.74335036, 187.71205969,\n",
              "       186.32855791, 189.24701704, 188.77238741, 185.86403662,\n",
              "       188.19678225, 187.86353068, 189.10563899, 176.452249  ,\n",
              "       171.9988171 , 173.25103375, 168.70671927, 163.15255712,\n",
              "       163.82915321, 155.91195122])"
            ]
          },
          "metadata": {
            "tags": []
          },
          "execution_count": 36
        }
      ]
    },
    {
      "cell_type": "code",
      "metadata": {
        "id": "-GhE1of_U8eq",
        "outputId": "a2d597ea-f69b-4806-8667-d20d637e7f9d",
        "colab": {
          "base_uri": "https://localhost:8080/",
          "height": 155
        }
      },
      "source": [
        "svm_prediction = svr_rbf.predict(x_forecast)\n",
        "svm_prediction"
      ],
      "execution_count": 37,
      "outputs": [
        {
          "output_type": "execute_result",
          "data": {
            "text/plain": [
              "array([181.22981345, 179.13196603, 178.46636391, 176.73333377,\n",
              "       173.35023143, 179.25154018, 180.17628095, 179.98497228,\n",
              "       178.15284013, 180.98537206, 180.32012012, 173.50531957,\n",
              "       173.57877357, 178.47582872, 178.67568712, 178.59790324,\n",
              "       182.18442841, 179.12775026, 177.76911433, 181.92466298,\n",
              "       177.56864776, 178.18422715, 178.63125958, 178.8939852 ,\n",
              "       172.47762865, 172.86883111, 172.1848143 , 167.68980613,\n",
              "       166.24091371, 160.78124411])"
            ]
          },
          "metadata": {
            "tags": []
          },
          "execution_count": 37
        }
      ]
    },
    {
      "cell_type": "code",
      "metadata": {
        "id": "wn6DPto6VUqq"
      },
      "source": [
        ""
      ],
      "execution_count": 37,
      "outputs": []
    }
  ]
}